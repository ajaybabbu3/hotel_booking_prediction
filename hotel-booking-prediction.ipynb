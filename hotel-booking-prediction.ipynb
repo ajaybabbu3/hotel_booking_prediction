{
 "cells": [
  {
   "cell_type": "markdown",
   "id": "29209aad",
   "metadata": {
    "papermill": {
     "duration": 0.030037,
     "end_time": "2021-12-08T02:32:40.323432",
     "exception": false,
     "start_time": "2021-12-08T02:32:40.293395",
     "status": "completed"
    },
    "tags": []
   },
   "source": [
    "# Contents:\n",
    "* Introduction \n",
    "* Importing the libraries\n",
    "* Reading Data\n",
    "* Data preprocessing\n",
    "* Exploratory data analysis\n",
    "* Building ML models\n",
    "* Comparing the models to find the best model"
   ]
  },
  {
   "cell_type": "markdown",
   "id": "024eac49",
   "metadata": {
    "papermill": {
     "duration": 0.028522,
     "end_time": "2021-12-08T02:32:40.381001",
     "exception": false,
     "start_time": "2021-12-08T02:32:40.352479",
     "status": "completed"
    },
    "tags": []
   },
   "source": [
    "# Introduction\n"
   ]
  },
  {
   "cell_type": "markdown",
   "id": "2250d976",
   "metadata": {
    "papermill": {
     "duration": 0.028325,
     "end_time": "2021-12-08T02:32:40.437995",
     "exception": false,
     "start_time": "2021-12-08T02:32:40.409670",
     "status": "completed"
    },
    "tags": []
   },
   "source": [
    "# Import the libraries"
   ]
  },
  {
   "cell_type": "code",
   "execution_count": 1,
   "id": "197dc34f",
   "metadata": {
    "_cell_guid": "b1076dfc-b9ad-4769-8c92-a6c4dae69d19",
    "_uuid": "8f2839f25d086af736a60e9eeb907d3b93b6e0e5",
    "execution": {
     "iopub.execute_input": "2021-12-08T02:32:40.502235Z",
     "iopub.status.busy": "2021-12-08T02:32:40.500380Z",
     "iopub.status.idle": "2021-12-08T02:32:40.526568Z",
     "shell.execute_reply": "2021-12-08T02:32:40.525755Z",
     "shell.execute_reply.started": "2021-12-08T02:15:17.914717Z"
    },
    "papermill": {
     "duration": 0.059572,
     "end_time": "2021-12-08T02:32:40.526729",
     "exception": false,
     "start_time": "2021-12-08T02:32:40.467157",
     "status": "completed"
    },
    "tags": []
   },
   "outputs": [
    {
     "name": "stdout",
     "output_type": "stream",
     "text": [
      "/kaggle/input/hotel-booking/hotel_booking.csv\n"
     ]
    }
   ],
   "source": [
    "# This Python 3 environment comes with many helpful analytics libraries installed\n",
    "# It is defined by the kaggle/python Docker image: https://github.com/kaggle/docker-python\n",
    "# For example, here's several helpful packages to load\n",
    "\n",
    "import numpy as np # linear algebra\n",
    "import pandas as pd # data processing, CSV file I/O (e.g. pd.read_csv)\n",
    "\n",
    "# Input data files are available in the read-only \"../input/\" directory\n",
    "# For example, running this (by clicking run or pressing Shift+Enter) will list all files under the input directory\n",
    "\n",
    "import os\n",
    "for dirname, _, filenames in os.walk('/kaggle/input'):\n",
    "    for filename in filenames:\n",
    "        print(os.path.join(dirname, filename))\n",
    "\n",
    "# You can write up to 20GB to the current directory (/kaggle/working/) that gets preserved as output when you create a version using \"Save & Run All\" \n",
    "# You can also write temporary files to /kaggle/temp/, but they won't be saved outside of the current session"
   ]
  },
  {
   "cell_type": "code",
   "execution_count": 2,
   "id": "73ccad11",
   "metadata": {
    "execution": {
     "iopub.execute_input": "2021-12-08T02:32:40.589680Z",
     "iopub.status.busy": "2021-12-08T02:32:40.588686Z",
     "iopub.status.idle": "2021-12-08T02:32:42.039604Z",
     "shell.execute_reply": "2021-12-08T02:32:42.040178Z",
     "shell.execute_reply.started": "2021-12-08T02:15:17.931291Z"
    },
    "papermill": {
     "duration": 1.483694,
     "end_time": "2021-12-08T02:32:42.040355",
     "exception": false,
     "start_time": "2021-12-08T02:32:40.556661",
     "status": "completed"
    },
    "tags": []
   },
   "outputs": [],
   "source": [
    "import numpy as np\n",
    "import pandas as pd\n",
    "import seaborn as sns\n",
    "import matplotlib.pyplot as plt\n",
    "from sklearn.preprocessing import LabelEncoder\n",
    "from sklearn.model_selection import train_test_split\n",
    "from sklearn.preprocessing import StandardScaler\n",
    "from sklearn.linear_model import LogisticRegression\n",
    "from sklearn.tree import DecisionTreeClassifier\n",
    "from sklearn.svm import SVC\n",
    "from sklearn.ensemble import RandomForestClassifier, AdaBoostClassifier\n",
    "from sklearn.neighbors import KNeighborsClassifier\n",
    "from sklearn.metrics import accuracy_score, confusion_matrix, classification_report"
   ]
  },
  {
   "cell_type": "markdown",
   "id": "7e67cb91",
   "metadata": {
    "papermill": {
     "duration": 0.030066,
     "end_time": "2021-12-08T02:32:42.100793",
     "exception": false,
     "start_time": "2021-12-08T02:32:42.070727",
     "status": "completed"
    },
    "tags": []
   },
   "source": [
    "# Reading the data from the csv file"
   ]
  },
  {
   "cell_type": "code",
   "execution_count": 3,
   "id": "521b6b69",
   "metadata": {
    "execution": {
     "iopub.execute_input": "2021-12-08T02:32:42.163603Z",
     "iopub.status.busy": "2021-12-08T02:32:42.162542Z",
     "iopub.status.idle": "2021-12-08T02:32:43.316534Z",
     "shell.execute_reply": "2021-12-08T02:32:43.316006Z",
     "shell.execute_reply.started": "2021-12-08T02:15:17.944959Z"
    },
    "papermill": {
     "duration": 1.186536,
     "end_time": "2021-12-08T02:32:43.316676",
     "exception": false,
     "start_time": "2021-12-08T02:32:42.130140",
     "status": "completed"
    },
    "tags": []
   },
   "outputs": [
    {
     "data": {
      "text/html": [
       "<div>\n",
       "<style scoped>\n",
       "    .dataframe tbody tr th:only-of-type {\n",
       "        vertical-align: middle;\n",
       "    }\n",
       "\n",
       "    .dataframe tbody tr th {\n",
       "        vertical-align: top;\n",
       "    }\n",
       "\n",
       "    .dataframe thead th {\n",
       "        text-align: right;\n",
       "    }\n",
       "</style>\n",
       "<table border=\"1\" class=\"dataframe\">\n",
       "  <thead>\n",
       "    <tr style=\"text-align: right;\">\n",
       "      <th></th>\n",
       "      <th>hotel</th>\n",
       "      <th>is_canceled</th>\n",
       "      <th>lead_time</th>\n",
       "      <th>arrival_date_year</th>\n",
       "      <th>arrival_date_month</th>\n",
       "      <th>arrival_date_week_number</th>\n",
       "      <th>arrival_date_day_of_month</th>\n",
       "      <th>stays_in_weekend_nights</th>\n",
       "      <th>stays_in_week_nights</th>\n",
       "      <th>adults</th>\n",
       "      <th>...</th>\n",
       "      <th>customer_type</th>\n",
       "      <th>adr</th>\n",
       "      <th>required_car_parking_spaces</th>\n",
       "      <th>total_of_special_requests</th>\n",
       "      <th>reservation_status</th>\n",
       "      <th>reservation_status_date</th>\n",
       "      <th>name</th>\n",
       "      <th>email</th>\n",
       "      <th>phone-number</th>\n",
       "      <th>credit_card</th>\n",
       "    </tr>\n",
       "  </thead>\n",
       "  <tbody>\n",
       "    <tr>\n",
       "      <th>0</th>\n",
       "      <td>Resort Hotel</td>\n",
       "      <td>0</td>\n",
       "      <td>342</td>\n",
       "      <td>2015</td>\n",
       "      <td>July</td>\n",
       "      <td>27</td>\n",
       "      <td>1</td>\n",
       "      <td>0</td>\n",
       "      <td>0</td>\n",
       "      <td>2</td>\n",
       "      <td>...</td>\n",
       "      <td>Transient</td>\n",
       "      <td>0.0</td>\n",
       "      <td>0</td>\n",
       "      <td>0</td>\n",
       "      <td>Check-Out</td>\n",
       "      <td>2015-07-01</td>\n",
       "      <td>Ernest Barnes</td>\n",
       "      <td>Ernest.Barnes31@outlook.com</td>\n",
       "      <td>669-792-1661</td>\n",
       "      <td>************4322</td>\n",
       "    </tr>\n",
       "    <tr>\n",
       "      <th>1</th>\n",
       "      <td>Resort Hotel</td>\n",
       "      <td>0</td>\n",
       "      <td>737</td>\n",
       "      <td>2015</td>\n",
       "      <td>July</td>\n",
       "      <td>27</td>\n",
       "      <td>1</td>\n",
       "      <td>0</td>\n",
       "      <td>0</td>\n",
       "      <td>2</td>\n",
       "      <td>...</td>\n",
       "      <td>Transient</td>\n",
       "      <td>0.0</td>\n",
       "      <td>0</td>\n",
       "      <td>0</td>\n",
       "      <td>Check-Out</td>\n",
       "      <td>2015-07-01</td>\n",
       "      <td>Andrea Baker</td>\n",
       "      <td>Andrea_Baker94@aol.com</td>\n",
       "      <td>858-637-6955</td>\n",
       "      <td>************9157</td>\n",
       "    </tr>\n",
       "    <tr>\n",
       "      <th>2</th>\n",
       "      <td>Resort Hotel</td>\n",
       "      <td>0</td>\n",
       "      <td>7</td>\n",
       "      <td>2015</td>\n",
       "      <td>July</td>\n",
       "      <td>27</td>\n",
       "      <td>1</td>\n",
       "      <td>0</td>\n",
       "      <td>1</td>\n",
       "      <td>1</td>\n",
       "      <td>...</td>\n",
       "      <td>Transient</td>\n",
       "      <td>75.0</td>\n",
       "      <td>0</td>\n",
       "      <td>0</td>\n",
       "      <td>Check-Out</td>\n",
       "      <td>2015-07-02</td>\n",
       "      <td>Rebecca Parker</td>\n",
       "      <td>Rebecca_Parker@comcast.net</td>\n",
       "      <td>652-885-2745</td>\n",
       "      <td>************3734</td>\n",
       "    </tr>\n",
       "    <tr>\n",
       "      <th>3</th>\n",
       "      <td>Resort Hotel</td>\n",
       "      <td>0</td>\n",
       "      <td>13</td>\n",
       "      <td>2015</td>\n",
       "      <td>July</td>\n",
       "      <td>27</td>\n",
       "      <td>1</td>\n",
       "      <td>0</td>\n",
       "      <td>1</td>\n",
       "      <td>1</td>\n",
       "      <td>...</td>\n",
       "      <td>Transient</td>\n",
       "      <td>75.0</td>\n",
       "      <td>0</td>\n",
       "      <td>0</td>\n",
       "      <td>Check-Out</td>\n",
       "      <td>2015-07-02</td>\n",
       "      <td>Laura Murray</td>\n",
       "      <td>Laura_M@gmail.com</td>\n",
       "      <td>364-656-8427</td>\n",
       "      <td>************5677</td>\n",
       "    </tr>\n",
       "    <tr>\n",
       "      <th>4</th>\n",
       "      <td>Resort Hotel</td>\n",
       "      <td>0</td>\n",
       "      <td>14</td>\n",
       "      <td>2015</td>\n",
       "      <td>July</td>\n",
       "      <td>27</td>\n",
       "      <td>1</td>\n",
       "      <td>0</td>\n",
       "      <td>2</td>\n",
       "      <td>2</td>\n",
       "      <td>...</td>\n",
       "      <td>Transient</td>\n",
       "      <td>98.0</td>\n",
       "      <td>0</td>\n",
       "      <td>1</td>\n",
       "      <td>Check-Out</td>\n",
       "      <td>2015-07-03</td>\n",
       "      <td>Linda Hines</td>\n",
       "      <td>LHines@verizon.com</td>\n",
       "      <td>713-226-5883</td>\n",
       "      <td>************5498</td>\n",
       "    </tr>\n",
       "  </tbody>\n",
       "</table>\n",
       "<p>5 rows × 36 columns</p>\n",
       "</div>"
      ],
      "text/plain": [
       "          hotel  is_canceled  lead_time  arrival_date_year arrival_date_month  \\\n",
       "0  Resort Hotel            0        342               2015               July   \n",
       "1  Resort Hotel            0        737               2015               July   \n",
       "2  Resort Hotel            0          7               2015               July   \n",
       "3  Resort Hotel            0         13               2015               July   \n",
       "4  Resort Hotel            0         14               2015               July   \n",
       "\n",
       "   arrival_date_week_number  arrival_date_day_of_month  \\\n",
       "0                        27                          1   \n",
       "1                        27                          1   \n",
       "2                        27                          1   \n",
       "3                        27                          1   \n",
       "4                        27                          1   \n",
       "\n",
       "   stays_in_weekend_nights  stays_in_week_nights  adults  ...  customer_type  \\\n",
       "0                        0                     0       2  ...      Transient   \n",
       "1                        0                     0       2  ...      Transient   \n",
       "2                        0                     1       1  ...      Transient   \n",
       "3                        0                     1       1  ...      Transient   \n",
       "4                        0                     2       2  ...      Transient   \n",
       "\n",
       "    adr required_car_parking_spaces total_of_special_requests  \\\n",
       "0   0.0                           0                         0   \n",
       "1   0.0                           0                         0   \n",
       "2  75.0                           0                         0   \n",
       "3  75.0                           0                         0   \n",
       "4  98.0                           0                         1   \n",
       "\n",
       "  reservation_status reservation_status_date            name  \\\n",
       "0          Check-Out              2015-07-01   Ernest Barnes   \n",
       "1          Check-Out              2015-07-01    Andrea Baker   \n",
       "2          Check-Out              2015-07-02  Rebecca Parker   \n",
       "3          Check-Out              2015-07-02    Laura Murray   \n",
       "4          Check-Out              2015-07-03     Linda Hines   \n",
       "\n",
       "                         email  phone-number       credit_card  \n",
       "0  Ernest.Barnes31@outlook.com  669-792-1661  ************4322  \n",
       "1       Andrea_Baker94@aol.com  858-637-6955  ************9157  \n",
       "2   Rebecca_Parker@comcast.net  652-885-2745  ************3734  \n",
       "3            Laura_M@gmail.com  364-656-8427  ************5677  \n",
       "4           LHines@verizon.com  713-226-5883  ************5498  \n",
       "\n",
       "[5 rows x 36 columns]"
      ]
     },
     "execution_count": 3,
     "metadata": {},
     "output_type": "execute_result"
    }
   ],
   "source": [
    "df = pd.read_csv('../input/hotel-booking/hotel_booking.csv')\n",
    "df.head()"
   ]
  },
  {
   "cell_type": "markdown",
   "id": "128dcec6",
   "metadata": {
    "papermill": {
     "duration": 0.029536,
     "end_time": "2021-12-08T02:32:43.378283",
     "exception": false,
     "start_time": "2021-12-08T02:32:43.348747",
     "status": "completed"
    },
    "tags": []
   },
   "source": [
    "# Data Preprocessing"
   ]
  },
  {
   "cell_type": "markdown",
   "id": "1ba9541e",
   "metadata": {
    "papermill": {
     "duration": 0.030183,
     "end_time": "2021-12-08T02:32:43.438505",
     "exception": false,
     "start_time": "2021-12-08T02:32:43.408322",
     "status": "completed"
    },
    "tags": []
   },
   "source": [
    "isnull() method is used to find the null values in the dataset"
   ]
  },
  {
   "cell_type": "code",
   "execution_count": 4,
   "id": "e9747900",
   "metadata": {
    "execution": {
     "iopub.execute_input": "2021-12-08T02:32:43.503542Z",
     "iopub.status.busy": "2021-12-08T02:32:43.502853Z",
     "iopub.status.idle": "2021-12-08T02:32:43.721653Z",
     "shell.execute_reply": "2021-12-08T02:32:43.722141Z",
     "shell.execute_reply.started": "2021-12-08T02:15:18.760965Z"
    },
    "papermill": {
     "duration": 0.253665,
     "end_time": "2021-12-08T02:32:43.722325",
     "exception": false,
     "start_time": "2021-12-08T02:32:43.468660",
     "status": "completed"
    },
    "tags": []
   },
   "outputs": [
    {
     "data": {
      "text/plain": [
       "hotel                                  0\n",
       "is_canceled                            0\n",
       "lead_time                              0\n",
       "arrival_date_year                      0\n",
       "arrival_date_month                     0\n",
       "arrival_date_week_number               0\n",
       "arrival_date_day_of_month              0\n",
       "stays_in_weekend_nights                0\n",
       "stays_in_week_nights                   0\n",
       "adults                                 0\n",
       "children                               4\n",
       "babies                                 0\n",
       "meal                                   0\n",
       "country                              488\n",
       "market_segment                         0\n",
       "distribution_channel                   0\n",
       "is_repeated_guest                      0\n",
       "previous_cancellations                 0\n",
       "previous_bookings_not_canceled         0\n",
       "reserved_room_type                     0\n",
       "assigned_room_type                     0\n",
       "booking_changes                        0\n",
       "deposit_type                           0\n",
       "agent                              16340\n",
       "company                           112593\n",
       "days_in_waiting_list                   0\n",
       "customer_type                          0\n",
       "adr                                    0\n",
       "required_car_parking_spaces            0\n",
       "total_of_special_requests              0\n",
       "reservation_status                     0\n",
       "reservation_status_date                0\n",
       "name                                   0\n",
       "email                                  0\n",
       "phone-number                           0\n",
       "credit_card                            0\n",
       "dtype: int64"
      ]
     },
     "execution_count": 4,
     "metadata": {},
     "output_type": "execute_result"
    }
   ],
   "source": [
    "df.isnull().sum()"
   ]
  },
  {
   "cell_type": "markdown",
   "id": "85e451a5",
   "metadata": {
    "papermill": {
     "duration": 0.02972,
     "end_time": "2021-12-08T02:32:43.782298",
     "exception": false,
     "start_time": "2021-12-08T02:32:43.752578",
     "status": "completed"
    },
    "tags": []
   },
   "source": [
    "From the data it is evident that most of the company values are null so lets get rid of that column. "
   ]
  },
  {
   "cell_type": "code",
   "execution_count": 5,
   "id": "14ee3a2d",
   "metadata": {
    "execution": {
     "iopub.execute_input": "2021-12-08T02:32:43.846436Z",
     "iopub.status.busy": "2021-12-08T02:32:43.845785Z",
     "iopub.status.idle": "2021-12-08T02:32:43.860729Z",
     "shell.execute_reply": "2021-12-08T02:32:43.860119Z",
     "shell.execute_reply.started": "2021-12-08T02:15:18.981503Z"
    },
    "papermill": {
     "duration": 0.048615,
     "end_time": "2021-12-08T02:32:43.860890",
     "exception": false,
     "start_time": "2021-12-08T02:32:43.812275",
     "status": "completed"
    },
    "tags": []
   },
   "outputs": [
    {
     "data": {
      "text/plain": [
       "0.0     110796\n",
       "1.0       4861\n",
       "2.0       3652\n",
       "3.0         76\n",
       "10.0         1\n",
       "Name: children, dtype: int64"
      ]
     },
     "execution_count": 5,
     "metadata": {},
     "output_type": "execute_result"
    }
   ],
   "source": [
    "df.children.value_counts()"
   ]
  },
  {
   "cell_type": "markdown",
   "id": "9dcdf56e",
   "metadata": {
    "papermill": {
     "duration": 0.030066,
     "end_time": "2021-12-08T02:32:43.921961",
     "exception": false,
     "start_time": "2021-12-08T02:32:43.891895",
     "status": "completed"
    },
    "tags": []
   },
   "source": [
    "As most of the children values are 0, lets fill the missing values with 0."
   ]
  },
  {
   "cell_type": "code",
   "execution_count": 6,
   "id": "3d435b2c",
   "metadata": {
    "execution": {
     "iopub.execute_input": "2021-12-08T02:32:43.988880Z",
     "iopub.status.busy": "2021-12-08T02:32:43.988168Z",
     "iopub.status.idle": "2021-12-08T02:32:44.024586Z",
     "shell.execute_reply": "2021-12-08T02:32:44.025082Z",
     "shell.execute_reply.started": "2021-12-08T02:15:18.991629Z"
    },
    "papermill": {
     "duration": 0.07299,
     "end_time": "2021-12-08T02:32:44.025268",
     "exception": false,
     "start_time": "2021-12-08T02:32:43.952278",
     "status": "completed"
    },
    "tags": []
   },
   "outputs": [],
   "source": [
    "df = df.drop('company',axis=1)\n",
    "df['agent'] = df['agent'].fillna(0)\n",
    "df['children'] = df['children'].fillna(0)\n",
    "df['country'] = df['country'].fillna('Unknown')"
   ]
  },
  {
   "cell_type": "code",
   "execution_count": 7,
   "id": "571c1c6a",
   "metadata": {
    "execution": {
     "iopub.execute_input": "2021-12-08T02:32:44.089267Z",
     "iopub.status.busy": "2021-12-08T02:32:44.088641Z",
     "iopub.status.idle": "2021-12-08T02:32:44.306543Z",
     "shell.execute_reply": "2021-12-08T02:32:44.306004Z",
     "shell.execute_reply.started": "2021-12-08T02:15:19.043771Z"
    },
    "papermill": {
     "duration": 0.250918,
     "end_time": "2021-12-08T02:32:44.306700",
     "exception": false,
     "start_time": "2021-12-08T02:32:44.055782",
     "status": "completed"
    },
    "tags": []
   },
   "outputs": [
    {
     "data": {
      "text/plain": [
       "hotel                             0\n",
       "is_canceled                       0\n",
       "lead_time                         0\n",
       "arrival_date_year                 0\n",
       "arrival_date_month                0\n",
       "arrival_date_week_number          0\n",
       "arrival_date_day_of_month         0\n",
       "stays_in_weekend_nights           0\n",
       "stays_in_week_nights              0\n",
       "adults                            0\n",
       "children                          0\n",
       "babies                            0\n",
       "meal                              0\n",
       "country                           0\n",
       "market_segment                    0\n",
       "distribution_channel              0\n",
       "is_repeated_guest                 0\n",
       "previous_cancellations            0\n",
       "previous_bookings_not_canceled    0\n",
       "reserved_room_type                0\n",
       "assigned_room_type                0\n",
       "booking_changes                   0\n",
       "deposit_type                      0\n",
       "agent                             0\n",
       "days_in_waiting_list              0\n",
       "customer_type                     0\n",
       "adr                               0\n",
       "required_car_parking_spaces       0\n",
       "total_of_special_requests         0\n",
       "reservation_status                0\n",
       "reservation_status_date           0\n",
       "name                              0\n",
       "email                             0\n",
       "phone-number                      0\n",
       "credit_card                       0\n",
       "dtype: int64"
      ]
     },
     "execution_count": 7,
     "metadata": {},
     "output_type": "execute_result"
    }
   ],
   "source": [
    "df.isnull().sum()"
   ]
  },
  {
   "cell_type": "markdown",
   "id": "e3fc7815",
   "metadata": {
    "papermill": {
     "duration": 0.030553,
     "end_time": "2021-12-08T02:32:44.367906",
     "exception": false,
     "start_time": "2021-12-08T02:32:44.337353",
     "status": "completed"
    },
    "tags": []
   },
   "source": [
    "# Exploratory data anlysis"
   ]
  },
  {
   "cell_type": "code",
   "execution_count": 8,
   "id": "79ff6caa",
   "metadata": {
    "execution": {
     "iopub.execute_input": "2021-12-08T02:32:44.456160Z",
     "iopub.status.busy": "2021-12-08T02:32:44.452255Z",
     "iopub.status.idle": "2021-12-08T02:32:44.767157Z",
     "shell.execute_reply": "2021-12-08T02:32:44.767683Z",
     "shell.execute_reply.started": "2021-12-08T02:15:19.267581Z"
    },
    "papermill": {
     "duration": 0.369409,
     "end_time": "2021-12-08T02:32:44.767868",
     "exception": false,
     "start_time": "2021-12-08T02:32:44.398459",
     "status": "completed"
    },
    "tags": []
   },
   "outputs": [
    {
     "data": {
      "image/png": "[encoded data removed]",
      "text/plain": [
       "<Figure size 432x288 with 1 Axes>"
      ]
     },
     "metadata": {
      "needs_background": "light"
     },
     "output_type": "display_data"
    }
   ],
   "source": [
    "counts = df.arrival_date_month.value_counts()\n",
    "counts.sort_index(inplace=True)\n",
    "sns.barplot(x = counts.index, y = counts)\n",
    "plt.ylabel('counts')\n",
    "plt.xticks(rotation=45);"
   ]
  },
  {
   "cell_type": "code",
   "execution_count": 9,
   "id": "494b9baf",
   "metadata": {
    "execution": {
     "iopub.execute_input": "2021-12-08T02:32:44.834760Z",
     "iopub.status.busy": "2021-12-08T02:32:44.834116Z",
     "iopub.status.idle": "2021-12-08T02:32:45.020374Z",
     "shell.execute_reply": "2021-12-08T02:32:45.019781Z",
     "shell.execute_reply.started": "2021-12-08T02:15:19.581036Z"
    },
    "papermill": {
     "duration": 0.220979,
     "end_time": "2021-12-08T02:32:45.020508",
     "exception": false,
     "start_time": "2021-12-08T02:32:44.799529",
     "status": "completed"
    },
    "tags": []
   },
   "outputs": [
    {
     "data": {
      "text/plain": [
       "Text(0, 0.5, 'counts')"
      ]
     },
     "execution_count": 9,
     "metadata": {},
     "output_type": "execute_result"
    },
    {
     "data": {
      "image/png": "[encoded data removed]",
      "text/plain": [
       "<Figure size 432x288 with 1 Axes>"
      ]
     },
     "metadata": {
      "needs_background": "light"
     },
     "output_type": "display_data"
    }
   ],
   "source": [
    "counts = df.arrival_date_year.value_counts()\n",
    "counts.sort_index(inplace=True)\n",
    "sns.barplot(x = counts.index, y = counts)\n",
    "plt.xlabel('arrival_date_year')\n",
    "plt.ylabel('counts')"
   ]
  },
  {
   "cell_type": "code",
   "execution_count": 10,
   "id": "f2e99160",
   "metadata": {
    "execution": {
     "iopub.execute_input": "2021-12-08T02:32:45.095460Z",
     "iopub.status.busy": "2021-12-08T02:32:45.089774Z",
     "iopub.status.idle": "2021-12-08T02:32:45.276950Z",
     "shell.execute_reply": "2021-12-08T02:32:45.277515Z",
     "shell.execute_reply.started": "2021-12-08T02:15:19.771945Z"
    },
    "papermill": {
     "duration": 0.224535,
     "end_time": "2021-12-08T02:32:45.277693",
     "exception": false,
     "start_time": "2021-12-08T02:32:45.053158",
     "status": "completed"
    },
    "tags": []
   },
   "outputs": [
    {
     "data": {
      "text/plain": [
       "Text(0, 0.5, 'counts')"
      ]
     },
     "execution_count": 10,
     "metadata": {},
     "output_type": "execute_result"
    },
    {
     "data": {
      "image/png": "[encoded data removed]",
      "text/plain": [
       "<Figure size 432x288 with 1 Axes>"
      ]
     },
     "metadata": {
      "needs_background": "light"
     },
     "output_type": "display_data"
    }
   ],
   "source": [
    "counts = df.is_canceled.value_counts()\n",
    "counts.sort_index(inplace=True)\n",
    "sns.barplot(x = counts.index, y = counts)\n",
    "plt.xlabel('is_canceled')\n",
    "plt.ylabel('counts')"
   ]
  },
  {
   "cell_type": "code",
   "execution_count": 11,
   "id": "55e58c34",
   "metadata": {
    "execution": {
     "iopub.execute_input": "2021-12-08T02:32:45.348520Z",
     "iopub.status.busy": "2021-12-08T02:32:45.347927Z",
     "iopub.status.idle": "2021-12-08T02:32:46.533658Z",
     "shell.execute_reply": "2021-12-08T02:32:46.534280Z",
     "shell.execute_reply.started": "2021-12-08T02:15:19.958922Z"
    },
    "papermill": {
     "duration": 1.223176,
     "end_time": "2021-12-08T02:32:46.534447",
     "exception": false,
     "start_time": "2021-12-08T02:32:45.311271",
     "status": "completed"
    },
    "tags": []
   },
   "outputs": [
    {
     "data": {
      "text/plain": [
       "<AxesSubplot:xlabel='deposit_type', ylabel='is_canceled'>"
      ]
     },
     "execution_count": 11,
     "metadata": {},
     "output_type": "execute_result"
    },
    {
     "data": {
      "image/png": "[encoded data removed]",
      "text/plain": [
       "<Figure size 432x288 with 1 Axes>"
      ]
     },
     "metadata": {
      "needs_background": "light"
     },
     "output_type": "display_data"
    }
   ],
   "source": [
    "sns.barplot(y=\"is_canceled\", x=\"deposit_type\", data=df)"
   ]
  },
  {
   "cell_type": "code",
   "execution_count": 12,
   "id": "035a8400",
   "metadata": {
    "execution": {
     "iopub.execute_input": "2021-12-08T02:32:46.622604Z",
     "iopub.status.busy": "2021-12-08T02:32:46.621900Z",
     "iopub.status.idle": "2021-12-08T02:32:46.942482Z",
     "shell.execute_reply": "2021-12-08T02:32:46.943081Z",
     "shell.execute_reply.started": "2021-12-08T02:15:21.146445Z"
    },
    "papermill": {
     "duration": 0.374307,
     "end_time": "2021-12-08T02:32:46.943267",
     "exception": false,
     "start_time": "2021-12-08T02:32:46.568960",
     "status": "completed"
    },
    "tags": []
   },
   "outputs": [
    {
     "data": {
      "image/png": "[encoded data removed]",
      "text/plain": [
       "<Figure size 432x288 with 1 Axes>"
      ]
     },
     "metadata": {
      "needs_background": "light"
     },
     "output_type": "display_data"
    }
   ],
   "source": [
    "sns.countplot(data=df, x = 'reserved_room_type')\n",
    "plt.show()"
   ]
  },
  {
   "cell_type": "code",
   "execution_count": 13,
   "id": "f90fa3ce",
   "metadata": {
    "execution": {
     "iopub.execute_input": "2021-12-08T02:32:47.017936Z",
     "iopub.status.busy": "2021-12-08T02:32:47.017270Z",
     "iopub.status.idle": "2021-12-08T02:32:47.278332Z",
     "shell.execute_reply": "2021-12-08T02:32:47.278796Z",
     "shell.execute_reply.started": "2021-12-08T02:15:21.485284Z"
    },
    "papermill": {
     "duration": 0.29977,
     "end_time": "2021-12-08T02:32:47.278985",
     "exception": false,
     "start_time": "2021-12-08T02:32:46.979215",
     "status": "completed"
    },
    "tags": []
   },
   "outputs": [
    {
     "name": "stdout",
     "output_type": "stream",
     "text": [
      "hotel 2\n",
      "arrival_date_month 12\n",
      "meal 5\n",
      "country 178\n",
      "market_segment 8\n",
      "distribution_channel 5\n",
      "reserved_room_type 10\n",
      "assigned_room_type 12\n",
      "deposit_type 3\n",
      "customer_type 4\n",
      "reservation_status 3\n",
      "reservation_status_date 926\n",
      "name 81503\n",
      "email 115889\n",
      "phone-number 119390\n",
      "credit_card 9000\n"
     ]
    }
   ],
   "source": [
    "char = df.select_dtypes(include='object')\n",
    "for i in char:\n",
    "    print(i , df[i].nunique())"
   ]
  },
  {
   "cell_type": "code",
   "execution_count": 14,
   "id": "cec0bb9a",
   "metadata": {
    "execution": {
     "iopub.execute_input": "2021-12-08T02:32:47.360051Z",
     "iopub.status.busy": "2021-12-08T02:32:47.359320Z",
     "iopub.status.idle": "2021-12-08T02:32:47.700554Z",
     "shell.execute_reply": "2021-12-08T02:32:47.701371Z",
     "shell.execute_reply.started": "2021-12-08T02:15:21.754113Z"
    },
    "papermill": {
     "duration": 0.386665,
     "end_time": "2021-12-08T02:32:47.701616",
     "exception": false,
     "start_time": "2021-12-08T02:32:47.314951",
     "status": "completed"
    },
    "tags": []
   },
   "outputs": [
    {
     "name": "stdout",
     "output_type": "stream",
     "text": [
      "hotel 2\n",
      "meal 5\n",
      "market_segment 8\n",
      "distribution_channel 5\n",
      "reserved_room_type 10\n",
      "deposit_type 3\n",
      "customer_type 4\n",
      "name 81503\n",
      "email 115889\n",
      "phone-number 119390\n",
      "credit_card 9000\n"
     ]
    }
   ],
   "source": [
    "df.drop(['days_in_waiting_list', 'arrival_date_year', 'arrival_date_year', 'assigned_room_type', 'booking_changes',\n",
    "               'reservation_status', 'country', 'days_in_waiting_list'], axis = 1, inplace=True)\n",
    "\n",
    "le=LabelEncoder()\n",
    "df['reservation_status_date'] = pd.to_datetime(df['reservation_status_date'])\n",
    "df['year'] = df['reservation_status_date'].dt.year\n",
    "df['month'] = df['reservation_status_date'].dt.month\n",
    "df['day'] = df['reservation_status_date'].dt.day\n",
    "df.drop(['reservation_status_date','arrival_date_month'] , axis = 1, inplace = True)\n",
    "\n",
    "a = df.select_dtypes(object).columns\n",
    "cat_list = []\n",
    "for i in a:\n",
    "    print (i, df[i].nunique())\n",
    "    cat_list.append(i)"
   ]
  },
  {
   "cell_type": "code",
   "execution_count": 15,
   "id": "1513671e",
   "metadata": {
    "execution": {
     "iopub.execute_input": "2021-12-08T02:32:47.793630Z",
     "iopub.status.busy": "2021-12-08T02:32:47.792916Z",
     "iopub.status.idle": "2021-12-08T02:32:48.878281Z",
     "shell.execute_reply": "2021-12-08T02:32:48.877648Z",
     "shell.execute_reply.started": "2021-12-08T02:15:22.103719Z"
    },
    "papermill": {
     "duration": 1.139152,
     "end_time": "2021-12-08T02:32:48.878422",
     "exception": false,
     "start_time": "2021-12-08T02:32:47.739270",
     "status": "completed"
    },
    "tags": []
   },
   "outputs": [],
   "source": [
    "for i in cat_list:\n",
    "    df[i] = le.fit_transform(df[i])\n",
    "df['year'] = le.fit_transform(df['year'])\n",
    "df['month'] = le.fit_transform(df['month'])\n",
    "df['day'] = le.fit_transform(df['day'])"
   ]
  },
  {
   "cell_type": "markdown",
   "id": "19cd2583",
   "metadata": {
    "papermill": {
     "duration": 0.036664,
     "end_time": "2021-12-08T02:32:48.956281",
     "exception": false,
     "start_time": "2021-12-08T02:32:48.919617",
     "status": "completed"
    },
    "tags": []
   },
   "source": [
    "# Split the dataset"
   ]
  },
  {
   "cell_type": "code",
   "execution_count": 16,
   "id": "b089a51d",
   "metadata": {
    "execution": {
     "iopub.execute_input": "2021-12-08T02:32:49.037030Z",
     "iopub.status.busy": "2021-12-08T02:32:49.036273Z",
     "iopub.status.idle": "2021-12-08T02:32:49.102258Z",
     "shell.execute_reply": "2021-12-08T02:32:49.101683Z",
     "shell.execute_reply.started": "2021-12-08T02:15:23.216121Z"
    },
    "papermill": {
     "duration": 0.109454,
     "end_time": "2021-12-08T02:32:49.102409",
     "exception": false,
     "start_time": "2021-12-08T02:32:48.992955",
     "status": "completed"
    },
    "tags": []
   },
   "outputs": [],
   "source": [
    "y = df['is_canceled']\n",
    "X = df.drop('is_canceled', axis = 1)\n",
    "X_train, X_test, y_train, y_test = train_test_split(X,y,random_state=46,test_size=0.3)"
   ]
  },
  {
   "cell_type": "markdown",
   "id": "e1bdac61",
   "metadata": {
    "papermill": {
     "duration": 0.035949,
     "end_time": "2021-12-08T02:32:49.174904",
     "exception": false,
     "start_time": "2021-12-08T02:32:49.138955",
     "status": "completed"
    },
    "tags": []
   },
   "source": [
    "# Feature Scaling"
   ]
  },
  {
   "cell_type": "code",
   "execution_count": 17,
   "id": "b94e1d83",
   "metadata": {
    "execution": {
     "iopub.execute_input": "2021-12-08T02:32:49.251986Z",
     "iopub.status.busy": "2021-12-08T02:32:49.251029Z",
     "iopub.status.idle": "2021-12-08T02:32:49.332783Z",
     "shell.execute_reply": "2021-12-08T02:32:49.332146Z",
     "shell.execute_reply.started": "2021-12-08T02:15:23.297221Z"
    },
    "papermill": {
     "duration": 0.121671,
     "end_time": "2021-12-08T02:32:49.332952",
     "exception": false,
     "start_time": "2021-12-08T02:32:49.211281",
     "status": "completed"
    },
    "tags": []
   },
   "outputs": [],
   "source": [
    "scaler = StandardScaler()\n",
    "X_train = scaler.fit_transform(X_train)\n",
    "X_test = scaler.transform(X_test)"
   ]
  },
  {
   "cell_type": "markdown",
   "id": "57328a46",
   "metadata": {
    "papermill": {
     "duration": 0.035855,
     "end_time": "2021-12-08T02:32:49.405183",
     "exception": false,
     "start_time": "2021-12-08T02:32:49.369328",
     "status": "completed"
    },
    "tags": []
   },
   "source": [
    "# Using logistic Regression"
   ]
  },
  {
   "cell_type": "code",
   "execution_count": 18,
   "id": "b084069a",
   "metadata": {
    "execution": {
     "iopub.execute_input": "2021-12-08T02:32:49.481011Z",
     "iopub.status.busy": "2021-12-08T02:32:49.480340Z",
     "iopub.status.idle": "2021-12-08T02:32:50.458118Z",
     "shell.execute_reply": "2021-12-08T02:32:50.459147Z",
     "shell.execute_reply.started": "2021-12-08T02:15:23.374804Z"
    },
    "papermill": {
     "duration": 1.018087,
     "end_time": "2021-12-08T02:32:50.459424",
     "exception": false,
     "start_time": "2021-12-08T02:32:49.441337",
     "status": "completed"
    },
    "tags": []
   },
   "outputs": [
    {
     "name": "stdout",
     "output_type": "stream",
     "text": [
      "Test Accuracy : 81.48%\n",
      "              precision    recall  f1-score   support\n",
      "\n",
      "           0       0.79      0.96      0.87     22585\n",
      "           1       0.89      0.57      0.69     13232\n",
      "\n",
      "    accuracy                           0.81     35817\n",
      "   macro avg       0.84      0.76      0.78     35817\n",
      "weighted avg       0.83      0.81      0.80     35817\n",
      "\n"
     ]
    }
   ],
   "source": [
    "log_reg = LogisticRegression()\n",
    "log_reg.fit(X_train,y_train)\n",
    "pred_log = log_reg.predict(X_test)\n",
    "acc_log= accuracy_score(pred_log,y_test)\n",
    "print ('Test Accuracy : {:.2f}%'.format(acc_log*100))\n",
    "print(classification_report(y_test,pred_log))"
   ]
  },
  {
   "cell_type": "markdown",
   "id": "d8366290",
   "metadata": {
    "papermill": {
     "duration": 0.039112,
     "end_time": "2021-12-08T02:32:50.537384",
     "exception": false,
     "start_time": "2021-12-08T02:32:50.498272",
     "status": "completed"
    },
    "tags": []
   },
   "source": [
    "# Using Decision Tree Classifier"
   ]
  },
  {
   "cell_type": "code",
   "execution_count": 19,
   "id": "f0f8441c",
   "metadata": {
    "execution": {
     "iopub.execute_input": "2021-12-08T02:32:50.622576Z",
     "iopub.status.busy": "2021-12-08T02:32:50.621296Z",
     "iopub.status.idle": "2021-12-08T02:32:52.253833Z",
     "shell.execute_reply": "2021-12-08T02:32:52.253244Z",
     "shell.execute_reply.started": "2021-12-08T02:15:24.555258Z"
    },
    "papermill": {
     "duration": 1.67794,
     "end_time": "2021-12-08T02:32:52.253984",
     "exception": false,
     "start_time": "2021-12-08T02:32:50.576044",
     "status": "completed"
    },
    "tags": []
   },
   "outputs": [
    {
     "name": "stdout",
     "output_type": "stream",
     "text": [
      "Test Accuracy : 93.37%\n",
      "              precision    recall  f1-score   support\n",
      "\n",
      "           0       0.95      0.94      0.95     22585\n",
      "           1       0.90      0.92      0.91     13232\n",
      "\n",
      "    accuracy                           0.93     35817\n",
      "   macro avg       0.93      0.93      0.93     35817\n",
      "weighted avg       0.93      0.93      0.93     35817\n",
      "\n"
     ]
    }
   ],
   "source": [
    "model_dtc = DecisionTreeClassifier()\n",
    "model_dtc.fit(X_train, y_train)\n",
    "y_pred_dtc = model_dtc.predict(X_test)\n",
    "acc_dtc = accuracy_score(y_test, y_pred_dtc)\n",
    "print ('Test Accuracy : {:.2f}%'.format(acc_dtc*100))\n",
    "print(classification_report(y_test, y_pred_dtc))\n"
   ]
  },
  {
   "cell_type": "markdown",
   "id": "aedee3ee",
   "metadata": {
    "papermill": {
     "duration": 0.038033,
     "end_time": "2021-12-08T02:32:52.330921",
     "exception": false,
     "start_time": "2021-12-08T02:32:52.292888",
     "status": "completed"
    },
    "tags": []
   },
   "source": [
    "# Random Forest Classifier"
   ]
  },
  {
   "cell_type": "code",
   "execution_count": 20,
   "id": "b1460e61",
   "metadata": {
    "execution": {
     "iopub.execute_input": "2021-12-08T02:32:52.408784Z",
     "iopub.status.busy": "2021-12-08T02:32:52.408156Z",
     "iopub.status.idle": "2021-12-08T02:33:14.015681Z",
     "shell.execute_reply": "2021-12-08T02:33:14.016264Z",
     "shell.execute_reply.started": "2021-12-08T02:15:26.107906Z"
    },
    "papermill": {
     "duration": 21.648283,
     "end_time": "2021-12-08T02:33:14.016450",
     "exception": false,
     "start_time": "2021-12-08T02:32:52.368167",
     "status": "completed"
    },
    "tags": []
   },
   "outputs": [
    {
     "name": "stdout",
     "output_type": "stream",
     "text": [
      "Test Accuracy : 93.86%\n",
      "              precision    recall  f1-score   support\n",
      "\n",
      "           0       0.99      0.92      0.95     24299\n",
      "           1       0.85      0.98      0.91     11518\n",
      "\n",
      "    accuracy                           0.94     35817\n",
      "   macro avg       0.92      0.95      0.93     35817\n",
      "weighted avg       0.95      0.94      0.94     35817\n",
      "\n"
     ]
    }
   ],
   "source": [
    "model_rfc = RandomForestClassifier()\n",
    "model_rfc.fit(X_train, y_train)\n",
    "pred_rfc = model_rfc.predict(X_test)\n",
    "acc_rfc = accuracy_score(pred_rfc, y_test)\n",
    "print ('Test Accuracy : {:.2f}%'.format(acc_rfc*100))\n",
    "print(classification_report(pred_rfc, y_test))"
   ]
  },
  {
   "cell_type": "markdown",
   "id": "55bd0ccc",
   "metadata": {
    "papermill": {
     "duration": 0.037577,
     "end_time": "2021-12-08T02:33:14.092976",
     "exception": false,
     "start_time": "2021-12-08T02:33:14.055399",
     "status": "completed"
    },
    "tags": []
   },
   "source": [
    "# AdaBoost Classifier"
   ]
  },
  {
   "cell_type": "code",
   "execution_count": 21,
   "id": "9834b66e",
   "metadata": {
    "execution": {
     "iopub.execute_input": "2021-12-08T02:33:14.175179Z",
     "iopub.status.busy": "2021-12-08T02:33:14.174002Z",
     "iopub.status.idle": "2021-12-08T02:33:20.860941Z",
     "shell.execute_reply": "2021-12-08T02:33:20.860276Z",
     "shell.execute_reply.started": "2021-12-08T02:15:47.732687Z"
    },
    "papermill": {
     "duration": 6.730671,
     "end_time": "2021-12-08T02:33:20.861082",
     "exception": false,
     "start_time": "2021-12-08T02:33:14.130411",
     "status": "completed"
    },
    "tags": []
   },
   "outputs": [
    {
     "name": "stdout",
     "output_type": "stream",
     "text": [
      "Test Accuracy : 82.06%\n",
      "              precision    recall  f1-score   support\n",
      "\n",
      "           0       0.94      0.81      0.87     26243\n",
      "           1       0.62      0.86      0.72      9574\n",
      "\n",
      "    accuracy                           0.82     35817\n",
      "   macro avg       0.78      0.83      0.79     35817\n",
      "weighted avg       0.85      0.82      0.83     35817\n",
      "\n"
     ]
    }
   ],
   "source": [
    "model_adaB = AdaBoostClassifier(learning_rate=0.5)\n",
    "model_adaB.fit(X_train, y_train)\n",
    "pred_adaB = model_adaB.predict(X_test)\n",
    "acc_adaB = accuracy_score(y_test, pred_adaB)\n",
    "print ('Test Accuracy : {:.2f}%'.format(acc_adaB*100))\n",
    "print(classification_report(pred_adaB, y_test))"
   ]
  },
  {
   "cell_type": "code",
   "execution_count": 22,
   "id": "e7bad025",
   "metadata": {
    "execution": {
     "iopub.execute_input": "2021-12-08T02:33:20.941462Z",
     "iopub.status.busy": "2021-12-08T02:33:20.939247Z",
     "iopub.status.idle": "2021-12-08T02:33:21.222221Z",
     "shell.execute_reply": "2021-12-08T02:33:21.222774Z",
     "shell.execute_reply.started": "2021-12-08T02:15:54.340550Z"
    },
    "papermill": {
     "duration": 0.324116,
     "end_time": "2021-12-08T02:33:21.222958",
     "exception": false,
     "start_time": "2021-12-08T02:33:20.898842",
     "status": "completed"
    },
    "tags": []
   },
   "outputs": [
    {
     "data": {
      "text/plain": [
       "<AxesSubplot:>"
      ]
     },
     "execution_count": 22,
     "metadata": {},
     "output_type": "execute_result"
    },
    {
     "data": {
      "image/png": "[encoded data removed]",
      "text/plain": [
       "<Figure size 432x288 with 2 Axes>"
      ]
     },
     "metadata": {
      "needs_background": "light"
     },
     "output_type": "display_data"
    }
   ],
   "source": [
    "cf_matrix_adaB = confusion_matrix(y_test, pred_adaB)\n",
    "sns.heatmap(cf_matrix_adaB/np.sum(cf_matrix_adaB), annot=True,fmt= '0.2%')\n"
   ]
  },
  {
   "cell_type": "markdown",
   "id": "b58d6cb3",
   "metadata": {
    "papermill": {
     "duration": 0.038202,
     "end_time": "2021-12-08T02:33:21.299513",
     "exception": false,
     "start_time": "2021-12-08T02:33:21.261311",
     "status": "completed"
    },
    "tags": []
   },
   "source": [
    "# KNeighbours Classifier"
   ]
  },
  {
   "cell_type": "code",
   "execution_count": 23,
   "id": "9900d2a0",
   "metadata": {
    "execution": {
     "iopub.execute_input": "2021-12-08T02:33:21.381962Z",
     "iopub.status.busy": "2021-12-08T02:33:21.379047Z",
     "iopub.status.idle": "2021-12-08T02:37:58.049117Z",
     "shell.execute_reply": "2021-12-08T02:37:58.049672Z",
     "shell.execute_reply.started": "2021-12-08T02:15:54.623040Z"
    },
    "papermill": {
     "duration": 276.711964,
     "end_time": "2021-12-08T02:37:58.049868",
     "exception": false,
     "start_time": "2021-12-08T02:33:21.337904",
     "status": "completed"
    },
    "tags": []
   },
   "outputs": [
    {
     "name": "stdout",
     "output_type": "stream",
     "text": [
      "Test Accuracy : 85.99%\n",
      "              precision    recall  f1-score   support\n",
      "\n",
      "           0       0.95      0.85      0.89     25172\n",
      "           1       0.71      0.89      0.79     10645\n",
      "\n",
      "    accuracy                           0.86     35817\n",
      "   macro avg       0.83      0.87      0.84     35817\n",
      "weighted avg       0.88      0.86      0.86     35817\n",
      "\n"
     ]
    }
   ],
   "source": [
    "model_neigh = KNeighborsClassifier()\n",
    "model_neigh.fit(X_train, y_train)\n",
    "pred_neigh = model_neigh.predict(X_test)\n",
    "acc_neigh = accuracy_score(y_test, pred_neigh)\n",
    "print ('Test Accuracy : {:.2f}%'.format(acc_neigh*100))\n",
    "print(classification_report(pred_neigh, y_test))"
   ]
  },
  {
   "cell_type": "code",
   "execution_count": 24,
   "id": "cfe5a0ce",
   "metadata": {
    "execution": {
     "iopub.execute_input": "2021-12-08T02:37:58.133087Z",
     "iopub.status.busy": "2021-12-08T02:37:58.132130Z",
     "iopub.status.idle": "2021-12-08T02:37:58.143171Z",
     "shell.execute_reply": "2021-12-08T02:37:58.143751Z",
     "shell.execute_reply.started": "2021-12-08T02:20:19.390984Z"
    },
    "papermill": {
     "duration": 0.054319,
     "end_time": "2021-12-08T02:37:58.143941",
     "exception": false,
     "start_time": "2021-12-08T02:37:58.089622",
     "status": "completed"
    },
    "tags": []
   },
   "outputs": [
    {
     "data": {
      "text/html": [
       "<div>\n",
       "<style scoped>\n",
       "    .dataframe tbody tr th:only-of-type {\n",
       "        vertical-align: middle;\n",
       "    }\n",
       "\n",
       "    .dataframe tbody tr th {\n",
       "        vertical-align: top;\n",
       "    }\n",
       "\n",
       "    .dataframe thead th {\n",
       "        text-align: right;\n",
       "    }\n",
       "</style>\n",
       "<table border=\"1\" class=\"dataframe\">\n",
       "  <thead>\n",
       "    <tr style=\"text-align: right;\">\n",
       "      <th></th>\n",
       "      <th>Model</th>\n",
       "      <th>Accuracy</th>\n",
       "    </tr>\n",
       "  </thead>\n",
       "  <tbody>\n",
       "    <tr>\n",
       "      <th>0</th>\n",
       "      <td>Logistic Regression</td>\n",
       "      <td>0.814781</td>\n",
       "    </tr>\n",
       "    <tr>\n",
       "      <th>1</th>\n",
       "      <td>KNeighborsClassifier</td>\n",
       "      <td>0.859871</td>\n",
       "    </tr>\n",
       "    <tr>\n",
       "      <th>2</th>\n",
       "      <td>Decision Tree Classifier</td>\n",
       "      <td>0.933663</td>\n",
       "    </tr>\n",
       "    <tr>\n",
       "      <th>3</th>\n",
       "      <td>RandomForestClassifier</td>\n",
       "      <td>0.938577</td>\n",
       "    </tr>\n",
       "    <tr>\n",
       "      <th>4</th>\n",
       "      <td>AdaBoostClassifier</td>\n",
       "      <td>0.820588</td>\n",
       "    </tr>\n",
       "  </tbody>\n",
       "</table>\n",
       "</div>"
      ],
      "text/plain": [
       "                      Model  Accuracy\n",
       "0       Logistic Regression  0.814781\n",
       "1      KNeighborsClassifier  0.859871\n",
       "2  Decision Tree Classifier  0.933663\n",
       "3    RandomForestClassifier  0.938577\n",
       "4        AdaBoostClassifier  0.820588"
      ]
     },
     "execution_count": 24,
     "metadata": {},
     "output_type": "execute_result"
    }
   ],
   "source": [
    "output = pd.DataFrame({\"Model\":['Logistic Regression','KNeighborsClassifier',\n",
    "                                'Decision Tree Classifier','RandomForestClassifier',\n",
    "                               'AdaBoostClassifier'],\n",
    "                      \"Accuracy\":[acc_log, acc_neigh, acc_dtc, acc_rfc, acc_adaB]})\n",
    "\n",
    "output"
   ]
  },
  {
   "cell_type": "markdown",
   "id": "f9e9dbaa",
   "metadata": {
    "papermill": {
     "duration": 0.039696,
     "end_time": "2021-12-08T02:37:58.223097",
     "exception": false,
     "start_time": "2021-12-08T02:37:58.183401",
     "status": "completed"
    },
    "tags": []
   },
   "source": [
    "# Findingout the best model"
   ]
  },
  {
   "cell_type": "code",
   "execution_count": 25,
   "id": "338e0b42",
   "metadata": {
    "execution": {
     "iopub.execute_input": "2021-12-08T02:37:58.306461Z",
     "iopub.status.busy": "2021-12-08T02:37:58.305831Z",
     "iopub.status.idle": "2021-12-08T02:37:58.638317Z",
     "shell.execute_reply": "2021-12-08T02:37:58.638842Z",
     "shell.execute_reply.started": "2021-12-08T02:20:19.402428Z"
    },
    "papermill": {
     "duration": 0.375341,
     "end_time": "2021-12-08T02:37:58.639022",
     "exception": false,
     "start_time": "2021-12-08T02:37:58.263681",
     "status": "completed"
    },
    "tags": []
   },
   "outputs": [
    {
     "data": {
      "text/plain": [
       "<AxesSubplot:xlabel='Accuracy', ylabel='Model'>"
      ]
     },
     "execution_count": 25,
     "metadata": {},
     "output_type": "execute_result"
    },
    {
     "data": {
      "image/png": "[encoded data removed]",
      "text/plain": [
       "<Figure size 432x288 with 1 Axes>"
      ]
     },
     "metadata": {
      "needs_background": "light"
     },
     "output_type": "display_data"
    }
   ],
   "source": [
    "sns.barplot(x='Accuracy', y='Model', data=output)"
   ]
  },
  {
   "cell_type": "markdown",
   "id": "903dcc88",
   "metadata": {
    "papermill": {
     "duration": 0.041475,
     "end_time": "2021-12-08T02:37:58.721363",
     "exception": false,
     "start_time": "2021-12-08T02:37:58.679888",
     "status": "completed"
    },
    "tags": []
   },
   "source": [
    "On comparing the accuracies of the above models, I found that Random forest classifier has the most accuracy"
   ]
  }
 ],
 "metadata": {
  "kernelspec": {
   "display_name": "Python 3",
   "language": "python",
   "name": "python3"
  },
  "language_info": {
   "codemirror_mode": {
    "name": "ipython",
    "version": 3
   },
   "file_extension": ".py",
   "mimetype": "text/x-python",
   "name": "python",
   "nbconvert_exporter": "python",
   "pygments_lexer": "ipython3",
   "version": "3.7.12"
  },
  "papermill": {
   "default_parameters": {},
   "duration": 329.562341,
   "end_time": "2021-12-08T02:37:59.475128",
   "environment_variables": {},
   "exception": null,
   "input_path": "__notebook__.ipynb",
   "output_path": "__notebook__.ipynb",
   "parameters": {},
   "start_time": "2021-12-08T02:32:29.912787",
   "version": "2.3.3"
  }
 },
 "nbformat": 4,
 "nbformat_minor": 5
}
